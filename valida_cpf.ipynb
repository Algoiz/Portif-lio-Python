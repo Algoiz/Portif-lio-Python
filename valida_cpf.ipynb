{
 "cells": [
  {
   "cell_type": "code",
   "execution_count": 6,
   "metadata": {},
   "outputs": [
    {
     "name": "stdout",
     "output_type": "stream",
     "text": [
      "CPF Válido\n"
     ]
    }
   ],
   "source": [
    "cpf = 52998224725\n",
    "cpf_lista = list(str(cpf))  # Converte o CPF de int para str\n",
    "cpf_lista = [int(digito) for digito in cpf_lista]  # Converte novamente para int\n",
    "\n",
    "# Verifica se o CPF tem exatamente 11 dígitos\n",
    "if len(cpf_lista) != 11:\n",
    "    print('CPF Inválido: Deve conter 11 dígitos')\n",
    "# Verifica se todos os dígitos do CPF são iguais\n",
    "elif all(digito == cpf_lista[0] for digito in cpf_lista) and len(cpf_lista) == 11:\n",
    "    print('CPF Inválido: Todos os dígitos são iguais')\n",
    "else:\n",
    "    # Calcula o primeiro dígito verificador\n",
    "    resultado1 = 0\n",
    "    peso = 10\n",
    "    for digito in cpf_lista[:9]:  # Considera os 9 primeiros dígitos do CPF\n",
    "        resultado1 += digito * peso\n",
    "        peso -= 1\n",
    "\n",
    "    primeiro_digito = (resultado1 * 10) % 11\n",
    "    if primeiro_digito == 10:\n",
    "        primeiro_digito = 0\n",
    "\n",
    "    # Calcula o segundo dígito verificador\n",
    "    resultado2 = 0\n",
    "    peso = 11\n",
    "    for digito in cpf_lista[:9] + [primeiro_digito]:  # Inclui o primeiro dígito verificador\n",
    "        resultado2 += digito * peso\n",
    "        peso -= 1\n",
    "\n",
    "    segundo_digito = (resultado2 * 10) % 11\n",
    "    if segundo_digito == 10:\n",
    "        segundo_digito = 0\n",
    "\n",
    "    # Verifica se os dígitos verificadores calculados coincidem com os do CPF\n",
    "    if primeiro_digito == cpf_lista[9] and segundo_digito == cpf_lista[10]:\n",
    "        print('CPF Válido')\n",
    "    else:\n",
    "        print('CPF Inválido')\n"
   ]
  }
 ],
 "metadata": {
  "kernelspec": {
   "display_name": "Python 3",
   "language": "python",
   "name": "python3"
  },
  "language_info": {
   "codemirror_mode": {
    "name": "ipython",
    "version": 3
   },
   "file_extension": ".py",
   "mimetype": "text/x-python",
   "name": "python",
   "nbconvert_exporter": "python",
   "pygments_lexer": "ipython3",
   "version": "3.12.4"
  }
 },
 "nbformat": 4,
 "nbformat_minor": 2
}
